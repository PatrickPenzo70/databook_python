{
  "nbformat": 4,
  "nbformat_minor": 0,
  "metadata": {
    "colab": {
      "provenance": [],
      "authorship_tag": "ABX9TyO6D69S1y2zV9/Deeaj3WRb",
      "include_colab_link": true
    },
    "kernelspec": {
      "name": "python3",
      "display_name": "Python 3"
    },
    "language_info": {
      "name": "python"
    }
  },
  "cells": [
    {
      "cell_type": "markdown",
      "metadata": {
        "id": "view-in-github",
        "colab_type": "text"
      },
      "source": [
        "<a href=\"https://colab.research.google.com/github/PatrickPenzo70/databook_python/blob/master/Untitled2.ipynb\" target=\"_parent\"><img src=\"https://colab.research.google.com/assets/colab-badge.svg\" alt=\"Open In Colab\"/></a>"
      ]
    },
    {
      "cell_type": "code",
      "execution_count": null,
      "metadata": {
        "id": "bojlKeoVp_uB"
      },
      "outputs": [],
      "source": [
        "import numpy as np\n",
        "from keras.models import Sequential\n",
        "from keras.layers import Dense\n",
        "from sklearn.preprocessing import StandardScaler\n",
        "from sklearn.model_selection import train_test_split"
      ]
    },
    {
      "cell_type": "code",
      "source": [
        "# Load dataset\n",
        "# X contains [current, gas flow rate, pressure, ...] (input parameters)\n",
        "input_parameters = {\n",
        "    'Total Plasma Flow Rate': 47,\n",
        "    'hydrogen ratio H2/Ar': 0.175,\n",
        "    'carrier gas flow rate': 3,\n",
        "    'injector diameter': 1.5,\n",
        "}\n",
        "\n",
        "# Y contains [temperature, velocity, deposition yield] (output values)\n",
        "output_parameters = {\n",
        "    'temperature': 0.95,\n",
        "    'velocity': 0.05,\n",
        "    'deposition yield': 0.92,\n",
        "}\n",
        "\n",
        "\n",
        "# Save the parameters to a .npy file\n",
        "np.save('input_parameters.npy', input_parameters)\n",
        "\n",
        "# To load and check the saved file later\n",
        "loaded_parameters = np.load('input_parameters.npy', allow_pickle=True).item()\n",
        "print(loaded_parameters)\n",
        "\n"
      ],
      "metadata": {
        "colab": {
          "base_uri": "https://localhost:8080/"
        },
        "id": "qxoi5NeKqhId",
        "outputId": "56b518d2-5687-442a-ed6e-2b6640c652a1"
      },
      "execution_count": null,
      "outputs": [
        {
          "output_type": "stream",
          "name": "stdout",
          "text": [
            "{'Total Plasma Flow Rate': 47, 'hydrogen ratio H2/Ar': 0.175, 'carrier gas flow rate': 3, 'injector diameter': 1.5}\n"
          ]
        }
      ]
    }
  ]
}